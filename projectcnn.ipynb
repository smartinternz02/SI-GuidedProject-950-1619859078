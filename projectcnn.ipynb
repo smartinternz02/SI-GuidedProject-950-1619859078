{
 "cells": [
  {
   "cell_type": "code",
   "execution_count": 1,
   "metadata": {},
   "outputs": [],
   "source": [
    "from tensorflow.keras.models import Sequential\n",
    "from tensorflow.keras.layers import Dense\n",
    "from tensorflow.keras.layers import Convolution2D\n",
    "from tensorflow.keras.layers import MaxPooling2D\n",
    "from tensorflow.keras.layers import Flatten"
   ]
  },
  {
   "cell_type": "code",
   "execution_count": 2,
   "metadata": {},
   "outputs": [
    {
     "name": "stderr",
     "output_type": "stream",
     "text": [
      "Using TensorFlow backend.\n"
     ]
    }
   ],
   "source": [
    "from keras.preprocessing.image import ImageDataGenerator\n",
    "train_datagen = ImageDataGenerator(rescale = 1./255,shear_range = 0.2,zoom_range = 0.2,horizontal_flip = True)\n",
    "test_datagen = ImageDataGenerator(rescale = 1./255)"
   ]
  },
  {
   "cell_type": "code",
   "execution_count": 3,
   "metadata": {},
   "outputs": [
    {
     "name": "stdout",
     "output_type": "stream",
     "text": [
      "Found 360 images belonging to 4 classes.\n",
      "Found 360 images belonging to 4 classes.\n"
     ]
    }
   ],
   "source": [
    "x_train = train_datagen.flow_from_directory(r\"C:\\humanfacesdata\\trainset\",target_size = (64,64),batch_size = 32,class_mode = \"categorical\")\n",
    "x_test = test_datagen.flow_from_directory(r\"C:\\humanfacesdata\\testset\",target_size = (64,64),batch_size = 32,class_mode = \"categorical\")"
   ]
  },
  {
   "cell_type": "code",
   "execution_count": 4,
   "metadata": {},
   "outputs": [],
   "source": [
    "model = Sequential()"
   ]
  },
  {
   "cell_type": "code",
   "execution_count": 5,
   "metadata": {},
   "outputs": [
    {
     "name": "stdout",
     "output_type": "stream",
     "text": [
      "WARNING:tensorflow:From C:\\Users\\WELCOME\\Anaconda3\\lib\\site-packages\\tensorflow\\python\\ops\\init_ops.py:1251: calling VarianceScaling.__init__ (from tensorflow.python.ops.init_ops) with dtype is deprecated and will be removed in a future version.\n",
      "Instructions for updating:\n",
      "Call initializer instance with the dtype argument instead of passing it to the constructor\n"
     ]
    }
   ],
   "source": [
    "model.add(Convolution2D(32,(3,3) ,input_shape = (64,64,3),activation = \"relu\"))"
   ]
  },
  {
   "cell_type": "code",
   "execution_count": 6,
   "metadata": {},
   "outputs": [],
   "source": [
    "model.add(MaxPooling2D(2,2))"
   ]
  },
  {
   "cell_type": "code",
   "execution_count": 7,
   "metadata": {},
   "outputs": [],
   "source": [
    "model.add(Flatten())"
   ]
  },
  {
   "cell_type": "code",
   "execution_count": 8,
   "metadata": {},
   "outputs": [
    {
     "name": "stdout",
     "output_type": "stream",
     "text": [
      "WARNING:tensorflow:From C:\\Users\\WELCOME\\Anaconda3\\lib\\site-packages\\tensorflow\\python\\keras\\initializers.py:119: calling RandomUniform.__init__ (from tensorflow.python.ops.init_ops) with dtype is deprecated and will be removed in a future version.\n",
      "Instructions for updating:\n",
      "Call initializer instance with the dtype argument instead of passing it to the constructor\n"
     ]
    }
   ],
   "source": [
    "model.add(Dense(units = 200,activation = \"relu\",kernel_initializer = \"random_uniform\"))"
   ]
  },
  {
   "cell_type": "code",
   "execution_count": 9,
   "metadata": {},
   "outputs": [],
   "source": [
    "model.add(Dense(units = 4,activation = \"softmax\",kernel_initializer = \"random_uniform\"))"
   ]
  },
  {
   "cell_type": "code",
   "execution_count": 10,
   "metadata": {},
   "outputs": [],
   "source": [
    "model.compile(\"sgd\",loss = \"categorical_crossentropy\",metrics = [\"accuracy\"])"
   ]
  },
  {
   "cell_type": "code",
   "execution_count": 11,
   "metadata": {},
   "outputs": [
    {
     "name": "stdout",
     "output_type": "stream",
     "text": [
      "Epoch 1/25\n",
      "47/47 [==============================] - 54s 1s/step - loss: 1.3061 - acc: 0.3928 - val_loss: 1.2316 - val_acc: 0.4253\n",
      "Epoch 2/25\n",
      "47/47 [==============================] - 70s 1s/step - loss: 1.1338 - acc: 0.5533 - val_loss: 1.0927 - val_acc: 0.5276\n",
      "Epoch 3/25\n",
      "47/47 [==============================] - 94s 2s/step - loss: 1.0150 - acc: 0.5971 - val_loss: 0.8533 - val_acc: 0.7127\n",
      "Epoch 4/25\n",
      "47/47 [==============================] - 59s 1s/step - loss: 0.8923 - acc: 0.6431 - val_loss: 0.8557 - val_acc: 0.6818\n",
      "Epoch 5/25\n",
      "47/47 [==============================] - 48s 1s/step - loss: 0.8329 - acc: 0.6851 - val_loss: 0.7155 - val_acc: 0.7451\n",
      "Epoch 6/25\n",
      "47/47 [==============================] - 49s 1s/step - loss: 0.7792 - acc: 0.6994 - val_loss: 0.6895 - val_acc: 0.7727\n",
      "Epoch 7/25\n",
      "47/47 [==============================] - 45s 963ms/step - loss: 0.7613 - acc: 0.7244 - val_loss: 0.7005 - val_acc: 0.7224\n",
      "Epoch 8/25\n",
      "47/47 [==============================] - 47s 1s/step - loss: 0.7172 - acc: 0.7395 - val_loss: 0.5754 - val_acc: 0.8019\n",
      "Epoch 9/25\n",
      "47/47 [==============================] - 59s 1s/step - loss: 0.6277 - acc: 0.7791 - val_loss: 0.5396 - val_acc: 0.8231\n",
      "Epoch 10/25\n",
      "47/47 [==============================] - 49s 1s/step - loss: 0.6527 - acc: 0.7782 - val_loss: 0.5410 - val_acc: 0.8003\n",
      "Epoch 11/25\n",
      "47/47 [==============================] - 51s 1s/step - loss: 0.5905 - acc: 0.7765 - val_loss: 0.4652 - val_acc: 0.8523\n",
      "Epoch 12/25\n",
      "47/47 [==============================] - 40s 850ms/step - loss: 0.5358 - acc: 0.8139 - val_loss: 0.4131 - val_acc: 0.8701\n",
      "Epoch 13/25\n",
      "47/47 [==============================] - 33s 706ms/step - loss: 0.5577 - acc: 0.8026 - val_loss: 0.4469 - val_acc: 0.8328\n",
      "Epoch 14/25\n",
      "47/47 [==============================] - 38s 817ms/step - loss: 0.4939 - acc: 0.8274 - val_loss: 0.4098 - val_acc: 0.8604\n",
      "Epoch 15/25\n",
      "47/47 [==============================] - 35s 742ms/step - loss: 0.4936 - acc: 0.8203 - val_loss: 0.3966 - val_acc: 0.8750\n",
      "Epoch 16/25\n",
      "47/47 [==============================] - 38s 800ms/step - loss: 0.5113 - acc: 0.8153 - val_loss: 0.3639 - val_acc: 0.8945\n",
      "Epoch 17/25\n",
      "47/47 [==============================] - 38s 818ms/step - loss: 0.4556 - acc: 0.8331 - val_loss: 0.3355 - val_acc: 0.9091\n",
      "Epoch 18/25\n",
      "47/47 [==============================] - 40s 860ms/step - loss: 0.4346 - acc: 0.8544 - val_loss: 0.2946 - val_acc: 0.9253\n",
      "Epoch 19/25\n",
      "47/47 [==============================] - 31s 652ms/step - loss: 0.4057 - acc: 0.8582 - val_loss: 0.2915 - val_acc: 0.9205\n",
      "Epoch 20/25\n",
      "47/47 [==============================] - 28s 594ms/step - loss: 0.4282 - acc: 0.8548 - val_loss: 0.2706 - val_acc: 0.9253\n",
      "Epoch 21/25\n",
      "47/47 [==============================] - 28s 596ms/step - loss: 0.3952 - acc: 0.8608 - val_loss: 0.2921 - val_acc: 0.9075\n",
      "Epoch 22/25\n",
      "47/47 [==============================] - 28s 592ms/step - loss: 0.3549 - acc: 0.8806 - val_loss: 0.2495 - val_acc: 0.9156\n",
      "Epoch 23/25\n",
      "47/47 [==============================] - 29s 621ms/step - loss: 0.3454 - acc: 0.8729 - val_loss: 0.2183 - val_acc: 0.9497\n",
      "Epoch 24/25\n",
      "47/47 [==============================] - 28s 598ms/step - loss: 0.3570 - acc: 0.8793 - val_loss: 0.2483 - val_acc: 0.9221\n",
      "Epoch 25/25\n",
      "47/47 [==============================] - 26s 558ms/step - loss: 0.4230 - acc: 0.8665 - val_loss: 0.2235 - val_acc: 0.9318\n"
     ]
    },
    {
     "data": {
      "text/plain": [
       "<tensorflow.python.keras.callbacks.History at 0x22c6dabd630>"
      ]
     },
     "execution_count": 11,
     "metadata": {},
     "output_type": "execute_result"
    }
   ],
   "source": [
    "model.fit_generator(x_train , steps_per_epoch = 47 ,epochs = 25,validation_data= x_test , validation_steps = 20)"
   ]
  },
  {
   "cell_type": "code",
   "execution_count": 13,
   "metadata": {},
   "outputs": [],
   "source": [
    "model.save(\"humanfaces.h5\")"
   ]
  },
  {
   "cell_type": "code",
   "execution_count": null,
   "metadata": {},
   "outputs": [],
   "source": []
  },
  {
   "cell_type": "code",
   "execution_count": null,
   "metadata": {},
   "outputs": [],
   "source": []
  }
 ],
 "metadata": {
  "kernelspec": {
   "display_name": "Python 3",
   "language": "python",
   "name": "python3"
  },
  "language_info": {
   "codemirror_mode": {
    "name": "ipython",
    "version": 3
   },
   "file_extension": ".py",
   "mimetype": "text/x-python",
   "name": "python",
   "nbconvert_exporter": "python",
   "pygments_lexer": "ipython3",
   "version": "3.7.3"
  }
 },
 "nbformat": 4,
 "nbformat_minor": 2
}
